{
 "metadata": {
  "language": "Julia",
  "name": ""
 },
 "nbformat": 3,
 "nbformat_minor": 0,
 "worksheets": [
  {
   "cells": [
    {
     "cell_type": "code",
     "collapsed": false,
     "input": [
      "module Con\n",
      "export Graph, Node, Edge\n",
      "\n",
      "type Node\n",
      "    label::ASCIIString\n",
      "end\n",
      "\n",
      "type Edge\n",
      "    a::Node\n",
      "    b::Node\n",
      "end\n",
      "\n",
      "type Graph\n",
      "    nodes::Set{Node}\n",
      "    neighbors::Dict{Node,Set{Node}}\n",
      "end\n",
      "\n",
      "function Graph(nodes::Set{Node}, edges::Array{Edge})\n",
      "    neighbors = Dict{Node,Set{Node}}();\n",
      "    for e in edges\n",
      "        for (n1, n2) in ((e.a, e.b), (e.b, e.a));\n",
      "            for e in edges\n",
      "                if haskey(neighbors, n1)\n",
      "                    push!(neighbors[n1], n2);\n",
      "                else\n",
      "                    neighbors[n1] = Set(n2);\n",
      "                end\n",
      "            end\n",
      "        end\n",
      "    end\n",
      "    Graph(nodes, neighbors)\n",
      "end\n",
      "\n",
      "type Path\n",
      "    nodes::Array{Node}\n",
      "end\n",
      "\n",
      "function BFS_path(graph::Graph, s::Node, t::Node)\n",
      "    visited = Set(s)\n",
      "    active_set = [Path([s])]\n",
      "    while true\n",
      "        new_active_set = Path[]\n",
      "        for p in active_set\n",
      "            for u in graph.neighbors[p.nodes[end]]\n",
      "                n = copy(p.nodes)\n",
      "                push!(n, u)\n",
      "                new_path = Path(n)\n",
      "                if u == t\n",
      "                    return new_path\n",
      "                end\n",
      "                if !(u in visited)\n",
      "                    push!(visited, u)\n",
      "                    push!(new_active_set, new_path)\n",
      "                end\n",
      "            end\n",
      "        end\n",
      "        if length(new_active_set) == 0\n",
      "            return Path(Node[])\n",
      "        end\n",
      "        active_set = new_active_set\n",
      "    end\n",
      "end\n",
      "\n",
      "function is_fully_connected(graph::Graph)\n",
      "    s, state = next(graph.nodes, start(graph.nodes))\n",
      "    visited = Set(s)\n",
      "    active_set = [s]\n",
      "    while true\n",
      "        new_active_set = Node[]\n",
      "        for n in active_set\n",
      "            for u in graph.neighbors[n]\n",
      "                if !(u in visited)\n",
      "                    push!(visited, u)\n",
      "                    push!(new_active_set, u)\n",
      "                    if length(visited) == length(graph.nodes)\n",
      "                        return true\n",
      "                    end\n",
      "                end\n",
      "            end\n",
      "        end\n",
      "        if length(new_active_set) == 0\n",
      "            return false\n",
      "        end\n",
      "        active_set = new_active_set\n",
      "    end\n",
      "end\n",
      "\n",
      "end"
     ],
     "language": "python",
     "metadata": {},
     "outputs": [],
     "prompt_number": 1
    },
    {
     "cell_type": "code",
     "collapsed": false,
     "input": [
      "import Con"
     ],
     "language": "python",
     "metadata": {},
     "outputs": [],
     "prompt_number": 2
    },
    {
     "cell_type": "code",
     "collapsed": false,
     "input": [
      "nodes = [Con.Node(\"a\"), Con.Node(\"b\"), Con.Node(\"c\"), Con.Node(\"d\")]\n",
      "edges = [Con.Edge(nodes[1], nodes[2]),\n",
      "    Con.Edge(nodes[2], nodes[3]),\n",
      "    Con.Edge(nodes[1], nodes[4])]\n",
      "graph = Con.Graph(Set(nodes...), edges)"
     ],
     "language": "python",
     "metadata": {},
     "outputs": [
      {
       "metadata": {},
       "output_type": "pyout",
       "prompt_number": 3,
       "text": [
        "Graph(Set{Node}(Node(\"a\"),Node(\"c\"),Node(\"d\"),Node(\"b\")),[Node(\"a\")=>Set{Node}(Node(\"d\"),Node(\"b\")),Node(\"c\")=>Set{Node}(Node(\"b\")),Node(\"d\")=>Set{Node}(Node(\"a\")),Node(\"b\")=>Set{Node}(Node(\"a\"),Node(\"c\"))])"
       ]
      }
     ],
     "prompt_number": 3
    },
    {
     "cell_type": "code",
     "collapsed": false,
     "input": [
      "path = Con.BFS_path(graph, nodes[1], nodes[3])"
     ],
     "language": "python",
     "metadata": {},
     "outputs": [
      {
       "metadata": {},
       "output_type": "pyout",
       "prompt_number": 4,
       "text": [
        "Path([Node(\"a\"),Node(\"b\"),Node(\"c\")])"
       ]
      }
     ],
     "prompt_number": 4
    },
    {
     "cell_type": "code",
     "collapsed": false,
     "input": [
      "path = Con.BFS_path(graph, nodes[1], nodes[4])"
     ],
     "language": "python",
     "metadata": {},
     "outputs": [
      {
       "metadata": {},
       "output_type": "pyout",
       "prompt_number": 5,
       "text": [
        "Path([Node(\"a\"),Node(\"d\")])"
       ]
      }
     ],
     "prompt_number": 5
    },
    {
     "cell_type": "code",
     "collapsed": false,
     "input": [
      "Con.is_fully_connected(graph)"
     ],
     "language": "python",
     "metadata": {},
     "outputs": [
      {
       "metadata": {},
       "output_type": "pyout",
       "prompt_number": 6,
       "text": [
        "true"
       ]
      }
     ],
     "prompt_number": 6
    },
    {
     "cell_type": "code",
     "collapsed": false,
     "input": [
      "graph2 = Con.Graph(Set(nodes...), edges[1:2])\n",
      "Con.is_fully_connected(graph2)"
     ],
     "language": "python",
     "metadata": {},
     "outputs": [
      {
       "metadata": {},
       "output_type": "pyout",
       "prompt_number": 7,
       "text": [
        "false"
       ]
      }
     ],
     "prompt_number": 7
    },
    {
     "cell_type": "code",
     "collapsed": false,
     "input": [],
     "language": "python",
     "metadata": {},
     "outputs": [],
     "prompt_number": 8
    }
   ],
   "metadata": {}
  }
 ]
}